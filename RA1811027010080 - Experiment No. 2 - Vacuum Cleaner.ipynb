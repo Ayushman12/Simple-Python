{
 "cells": [
  {
   "cell_type": "markdown",
   "metadata": {},
   "source": [
    "# Vacuum Cleaner Agent\n",
    "## Name : Ayushman Chaudhary\n",
    "## RA1811027010080"
   ]
  },
  {
   "cell_type": "markdown",
   "metadata": {},
   "source": [
    "### AIM: \n",
    "Devloping Vacuum Cleaner Agent for Real World."
   ]
  },
  {
   "cell_type": "markdown",
   "metadata": {},
   "source": [
    "### State Diagram:"
   ]
  },
  {
   "cell_type": "markdown",
   "metadata": {},
   "source": [
    "![title](vacuum.jpeg)"
   ]
  },
  {
   "cell_type": "markdown",
   "metadata": {},
   "source": [
    "### Code:"
   ]
  },
  {
   "cell_type": "code",
   "execution_count": 4,
   "metadata": {},
   "outputs": [
    {
     "name": "stdout",
     "output_type": "stream",
     "text": [
      "Enter initial location of the vaccum cleaner B\n",
      "Enter status of intial location. (Clean -> 0, Dirty -> 1) 0\n",
      "Enter status of other location. (Clean -> 0, Dirty -> 1) 0\n",
      "Vaccum is at Location B\n",
      "Location B is already clean\n",
      "Moving to Location A\n",
      "Location A is already cleaned\n",
      "Total cost = -1\n"
     ]
    }
   ],
   "source": [
    "def vacuum_cleaner():\n",
    "    #taking present locaton and state of both locations as inputs\n",
    "    initial_location = input(\"Enter initial location of the vaccum cleaner \")\n",
    "    location_state = input(\"Enter status of intial location. (Clean -> 0, Dirty -> 1) \")\n",
    "    otherRoom_state = input(\"Enter status of other location. (Clean -> 0, Dirty -> 1) \")\n",
    "    \n",
    "    #initializing the total cost to 0 \n",
    "    total_cost = 0\n",
    "    \n",
    "    #checking the current locaton of the vacuum cleaner to be A\n",
    "    if initial_location=='A':\n",
    "        print(\"Vaccum is at Location A\")\n",
    "        \n",
    "        #checking the state of current location\n",
    "        if(location_state=='1'):\n",
    "            print(\"Location A is dirty\")\n",
    "            \n",
    "            #incrementing cost by 1 if current location is dirty\n",
    "            total_cost=total_cost+1\n",
    "            \n",
    "            #setting the state of current location clean\n",
    "            location_state = '0'\n",
    "            print(\"Location A is cleaned\")\n",
    "            \n",
    "            #Moving to second location\n",
    "            print(\"Vaccum moved to Location B\")\n",
    "            \n",
    "            #decrementing cost by 1 as movement charge\n",
    "            total_cost = total_cost-1\n",
    "            \n",
    "            #checking the status of other location\n",
    "            if(otherRoom_state=='1'):\n",
    "                total_cost = total_cost+1\n",
    "                otherRoom_state = '0'\n",
    "                print(\"Location B is cleaned\")\n",
    "            else:\n",
    "                print(\"Location B is already cleaned\")\n",
    "        else:\n",
    "            print(\"Location A is clean\")\n",
    "            print(\"Moving to Location B\")\n",
    "            total_cost=total_cost-1\n",
    "            if(otherRoom_state=='1'):\n",
    "                total_cost = total_cost+1\n",
    "                otherRoom_state = '0'\n",
    "                print(\"Location B is cleaned\")\n",
    "            else:\n",
    "                print(\"Location B is already cleaned\")\n",
    "                \n",
    "                \n",
    "    #if the initial location is B\n",
    "    else:\n",
    "        print(\"Vaccum is at Location B\")\n",
    "        \n",
    "        #checking status of the current location\n",
    "        if(location_state=='1'):\n",
    "            print(\"Location B is dirty\")\n",
    "            total_cost = total_cost+1\n",
    "            otherRoom_state='0'\n",
    "            print(\"Location B is cleaned\")\n",
    "            print(\"Vacuum moved to Location A\")\n",
    "            total_cost = total_cost-1\n",
    "\n",
    "            if(otherRoom_state=='1'):\n",
    "                print(\"Location A is dirty\")\n",
    "                total_cost=total_cost+1\n",
    "                location_state = '0'\n",
    "                print(\"Location A is cleaned\")\n",
    "            else:\n",
    "                print(\"Location A is already cleaned\")\n",
    "        else:\n",
    "            print(\"Location B is already clean\")\n",
    "            print(\"Moving to Location A\")\n",
    "            total_cost=total_cost-1\n",
    "            if(otherRoom_state=='1'):\n",
    "                total_cost = total_cost+1\n",
    "                otherRoom_state = '0'\n",
    "                print(\"Location A is cleaned\")\n",
    "            else:\n",
    "                print(\"Location A is already cleaned\")\n",
    "    \n",
    "    print(\"Total cost = \"+ str(total_cost))\n",
    "    \n",
    "#function call\n",
    "vacuum_cleaner()"
   ]
  },
  {
   "cell_type": "markdown",
   "metadata": {},
   "source": [
    "### Conclusion:\n",
    "The Vacuum Cleaner agent is successfully implemented."
   ]
  }
 ],
 "metadata": {
  "kernelspec": {
   "display_name": "Python 3",
   "language": "python",
   "name": "python3"
  },
  "language_info": {
   "codemirror_mode": {
    "name": "ipython",
    "version": 3
   },
   "file_extension": ".py",
   "mimetype": "text/x-python",
   "name": "python",
   "nbconvert_exporter": "python",
   "pygments_lexer": "ipython3",
   "version": "3.7.4"
  }
 },
 "nbformat": 4,
 "nbformat_minor": 2
}
