{
 "cells": [
  {
   "cell_type": "markdown",
   "metadata": {
    "id": "Q6-ZkABaO9p_"
   },
   "source": [
    "**Reg. No. : RA1811027010080**"
   ]
  },
  {
   "cell_type": "markdown",
   "metadata": {
    "id": "JcUdAp0KO9bo"
   },
   "source": [
    "**Name : Ayushman Chaudhary**"
   ]
  },
  {
   "cell_type": "markdown",
   "metadata": {
    "id": "A-NOWOIuPiZP"
   },
   "source": [
    "**Exp 8-**\n",
    "**Implementation of Knowledge Representation**"
   ]
  },
  {
   "cell_type": "markdown",
   "metadata": {},
   "source": [
    "**Manual Process**"
   ]
  },
  {
   "cell_type": "markdown",
   "metadata": {},
   "source": [
    "![title](KnowledgeGraph.jpeg)"
   ]
  },
  {
   "cell_type": "markdown",
   "metadata": {
    "id": "-ww_AbTiQjm2"
   },
   "source": [
    "**Code -**"
   ]
  },
  {
   "cell_type": "code",
   "execution_count": 78,
   "metadata": {
    "id": "doGQ812eHV5v"
   },
   "outputs": [],
   "source": [
    "import spacy\n",
    "from spacy.lang.en import English\n",
    "import networkx as nx\n",
    "import matplotlib.pyplot as plt"
   ]
  },
  {
   "cell_type": "code",
   "execution_count": 75,
   "metadata": {
    "colab": {
     "base_uri": "https://localhost:8080/"
    },
    "id": "DTfQPxI9HV1W",
    "outputId": "c2bfe89c-de1b-4321-9077-39ecdd65c95a"
   },
   "outputs": [
    {
     "name": "stdout",
     "output_type": "stream",
     "text": [
      "The -> det\n",
      "Chennai -> compound\n",
      "Super -> compound\n",
      "Kings -> nsubj\n",
      "( -> punct\n",
      "CSK -> appos\n",
      ") -> punct\n",
      "are -> ROOT\n",
      "a -> det\n",
      "franchise -> compound\n",
      "cricket -> compound\n",
      "team -> attr\n",
      "based -> acl\n",
      "in -> prep\n",
      "Chennai -> pobj\n",
      ", -> punct\n",
      "Tamil -> compound\n",
      "Nadu -> appos\n",
      ", -> punct\n",
      "which -> nsubj\n",
      "plays -> relcl\n",
      "in -> prep\n",
      "the -> det\n",
      "Indian -> amod\n",
      "Premier -> compound\n",
      "League -> pobj\n",
      "( -> punct\n",
      "IPL -> appos\n",
      ") -> punct\n",
      ". -> punct\n",
      "Founded -> advcl\n",
      "in -> prep\n",
      "2008 -> pobj\n",
      ", -> punct\n",
      "the -> det\n",
      "team -> nsubj\n",
      "plays -> ROOT\n",
      "its -> poss\n",
      "home -> compound\n",
      "matches -> dobj\n",
      "at -> prep\n",
      "the -> det\n",
      "M. -> compound\n",
      "A. -> compound\n",
      "Chidambaram -> compound\n",
      "Stadium -> pobj\n",
      "in -> prep\n",
      "Chennai -> pobj\n",
      ". -> punct\n",
      "The -> det\n",
      "team -> nsubj\n",
      "served -> ROOT\n",
      "a -> det\n",
      "two -> nummod\n",
      "- -> punct\n",
      "year -> compound\n",
      "suspension -> dobj\n",
      "from -> prep\n",
      "the -> det\n",
      "IPL -> pobj\n",
      "starting -> advcl\n",
      "July -> npadvmod\n",
      "2015 -> nummod\n",
      "for -> prep\n",
      "the -> det\n",
      "alleged -> amod\n",
      "involvement -> pobj\n",
      "of -> prep\n",
      "their -> poss\n",
      "owners -> pobj\n",
      "in -> prep\n",
      "the -> det\n",
      "2013 -> nummod\n",
      "IPL -> compound\n",
      "betting -> compound\n",
      "case -> pobj\n",
      ", -> punct\n",
      "and -> cc\n",
      "won -> conj\n",
      "the -> det\n",
      "title -> dobj\n",
      "in -> prep\n",
      "its -> poss\n",
      "comeback -> compound\n",
      "season -> pobj\n",
      ". -> punct\n",
      "The -> det\n",
      "team -> nsubjpass\n",
      "is -> auxpass\n",
      "captained -> ROOT\n",
      "by -> agent\n",
      "Mahendra -> compound\n",
      "Singh -> compound\n",
      "Dhoni -> pobj\n",
      "and -> cc\n",
      "coached -> conj\n",
      "by -> agent\n",
      "Stephen -> compound\n",
      "Fleming -> pobj\n",
      ". -> punct\n",
      "The -> det\n",
      "Super -> compound\n",
      "Kings -> nsubj\n",
      "have -> aux\n",
      "lifted -> ROOT\n",
      "the -> det\n",
      "IPL -> compound\n",
      "title -> compound\n",
      "thrice -> dobj\n",
      "( -> punct\n",
      "in -> prep\n",
      "2010 -> pobj\n",
      ", -> punct\n",
      "2011 -> conj\n",
      "and -> cc\n",
      "2018 -> conj\n",
      ") -> punct\n",
      ", -> punct\n",
      "and -> cc\n",
      "have -> conj\n",
      "the -> det\n",
      "highest -> amod\n",
      "win -> compound\n",
      "percentage -> dobj\n",
      "of -> prep\n",
      "matches -> pobj\n",
      "among -> prep\n",
      "all -> det\n",
      "teams -> pobj\n",
      "in -> prep\n",
      "the -> det\n",
      "IPL -> pobj\n",
      "( -> punct\n",
      "59.83 -> nummod\n",
      "% -> appos\n",
      ") -> punct\n",
      ". -> punct\n",
      "They -> nsubj\n",
      "hold -> ROOT\n",
      "the -> det\n",
      "records -> dobj\n",
      "of -> prep\n",
      "most -> amod\n",
      "appearances -> pobj\n",
      "in -> prep\n",
      "the -> det\n",
      "playoffs -> pobj\n",
      "( -> punct\n",
      "ten -> npadvmod\n",
      ") -> punct\n",
      "and -> cc\n",
      "the -> det\n",
      "Final -> nmod\n",
      "( -> punct\n",
      "eight -> conj\n",
      ") -> punct\n",
      "of -> prep\n",
      "the -> det\n",
      "IPL -> pobj\n",
      ". -> punct\n",
      "In -> prep\n",
      "addition -> pobj\n",
      ", -> punct\n",
      "they -> nsubj\n",
      "have -> aux\n",
      "also -> advmod\n",
      "won -> ROOT\n",
      "the -> det\n",
      "Champions -> compound\n",
      "League -> compound\n",
      "Twenty20 -> dobj\n",
      "in -> prep\n",
      "2010 -> pobj\n",
      "and -> cc\n",
      "2014 -> conj\n",
      ". -> punct\n",
      "The -> det\n",
      "brand -> compound\n",
      "value -> nsubjpass\n",
      "of -> prep\n",
      "the -> det\n",
      "Super -> compound\n",
      "Kings -> pobj\n",
      "in -> prep\n",
      "2019 -> pobj\n",
      "is -> auxpass\n",
      "estimated -> ROOT\n",
      "to -> aux\n",
      "be -> xcomp\n",
      "around -> prep\n",
      "₹732 -> compound\n",
      "crore -> pobj\n",
      "( -> punct\n",
      "roughly -> advmod\n",
      "$ -> quantmod\n",
      "104 -> compound\n",
      "million -> appos\n",
      ") -> punct\n",
      ", -> punct\n",
      "making -> advcl\n",
      "them -> nsubj\n",
      "the -> det\n",
      "second -> advmod\n",
      "- -> punct\n",
      "most -> advmod\n",
      "valuable -> amod\n",
      "IPL -> compound\n",
      "franchise -> ccomp\n",
      ", -> punct\n",
      "after -> prep\n",
      "the -> det\n",
      "Mumbai -> compound\n",
      "Indians -> pobj\n",
      ". -> punct\n"
     ]
    }
   ],
   "source": [
    "import spacy\n",
    "\n",
    "text = \"The Chennai Super Kings (CSK) are a franchise cricket team based in Chennai, Tamil Nadu, which plays in the Indian Premier League (IPL). Founded in 2008, the team plays its home matches at the M. A. Chidambaram Stadium in Chennai. The team served a two-year suspension from the IPL starting July 2015 for the alleged involvement of their owners in the 2013 IPL betting case, and won the title in its comeback season. The team is captained by Mahendra Singh Dhoni and coached by Stephen Fleming. The Super Kings have lifted the IPL title thrice (in 2010, 2011 and 2018), and have the highest win percentage of matches among all teams in the IPL (59.83 %). They hold the records of most appearances in the playoffs (ten) and the Final (eight) of the IPL. In addition, they have also won the Champions League Twenty20 in 2010 and 2014. The brand value of the Super Kings in 2019 is estimated to be around ₹732 crore (roughly $104 million), making them the second-most valuable IPL franchise, after the Mumbai Indians.\"\n",
    "nlp = spacy.load('en_core_web_sm')\n",
    "doc = nlp(text)\n",
    "\n",
    "for token in doc:\n",
    "    print(token.text, \"->\", token.dep_)"
   ]
  },
  {
   "cell_type": "code",
   "execution_count": 72,
   "metadata": {
    "colab": {
     "base_uri": "https://localhost:8080/"
    },
    "id": "J02-YFIrHVzx",
    "outputId": "6783c937-0da6-44b0-d7f9-5159ad258182"
   },
   "outputs": [
    {
     "name": "stdout",
     "output_type": "stream",
     "text": [
      "[('Kings which', 'be team Indian', 'Chennai League'), ('team', 'play', '2008 matches Stadium Chennai'), ('team', 'serve alleged', 'suspension IPL involvement owners case title season'), ('team', 'captain by by', 'Dhoni Fleming'), ('Kings', 'lift high', 'thrice 2010 percentage matches teams IPL'), ('They', 'hold most', 'records appearances playoffs IPL'), ('they', 'win', 'addition Twenty20 2010'), ('value them', 'estimate valuable', 'Kings 2019 crore Indians')]\n"
     ]
    }
   ],
   "source": [
    "# Append the tokens to the subject/relation/object strings\n",
    "def appendChunk(original, chunk):\n",
    "    return original + ' ' + chunk\n",
    "\n",
    "# check dependency of token and relation with head\n",
    "def isRelationCandidate(token):\n",
    "    deps = [\"ROOT\", \"adj\", \"attr\", \"agent\", \"amod\"]\n",
    "    return any(subs in token.dep_ for subs in deps)     #any() returns true if any iterable comes true\n",
    "\n",
    "# check for subject and object construction\n",
    "def isConstructionCandidate(token):\n",
    "    deps = [\"compound\", \"prep\", \"conj\", \"mod\"]\n",
    "    return any(subs in token.dep_ for subs in deps)\n",
    "\n",
    "# this will finally returns subject,relation, object triplets for each sentence in the text\n",
    "def processSubjectObjectPairs(tokens):\n",
    "    subject = ''\n",
    "    object = ''\n",
    "    relation = ''\n",
    "    subjectConstruction = ''\n",
    "    objectConstruction = ''\n",
    "    for token in tokens:\n",
    "        \n",
    "        if \"punct\" in token.dep_:                                                        # If the token is a punctuation, then skip\n",
    "            continue\n",
    "\n",
    "        if isRelationCandidate(token):                                                   # If the token is a relation, then append it to the relation string\n",
    "            relation = appendChunk(relation, token.lemma_)\n",
    "        \n",
    "        if isConstructionCandidate(token):                                               # If the token is a subject/object, then append it to the subject/object construction strings respectively\n",
    "            if subjectConstruction:\n",
    "                subjectConstruction = appendChunk(subjectConstruction, token.text)\n",
    "            if objectConstruction:\n",
    "                objectConstruction = appendChunk(objectConstruction, token.text)\n",
    "        \n",
    "        if \"subj\" in token.dep_:                                                          # Checking for subjects and appending the same to the respective string\n",
    "            subject = appendChunk(subject, token.text)\n",
    "            subject = appendChunk(subjectConstruction, subject)\n",
    "            subjectConstruction = ''\n",
    "        \n",
    "        if \"obj\" in token.dep_:                                                           # Checking for objects (if left out) and appending the same to the respective string\n",
    "            object = appendChunk(object, token.text)\n",
    "            object = appendChunk(objectConstruction, object)\n",
    "            objectConstruction = ''\n",
    "\n",
    "    return (subject.strip(), relation.strip(), object.strip())                            # returns final value- triplet of subject,relation and object\n",
    "\n",
    "\n",
    "def processSentence(sentence):                                                            # creating sentence into tokens and later on making triplets from thos tokens\n",
    "    tokens = nlp(sentence)\n",
    "    return processSubjectObjectPairs(tokens)\n",
    "\n",
    "triples = []\n",
    "sentences = list(doc.sents)                                                              #seperates the sentence from fullstop(.)\n",
    "\n",
    "for sentence in sentences:\n",
    "    # Triplets for each sentence are appended to the list 'triples'\n",
    "    triples.append(processSentence(str(sentence)))\n",
    "\n",
    "print(triples) # Printing of all triplets"
   ]
  },
  {
   "cell_type": "code",
   "execution_count": 73,
   "metadata": {
    "colab": {
     "base_uri": "https://localhost:8080/",
     "height": 607
    },
    "id": "ouPEFVP5HVp2",
    "outputId": "3c161296-a306-4c59-fd49-3f849cf6ec5a"
   },
   "outputs": [
    {
     "data": {
      "image/png": "[encoded data removed]",
      "text/plain": [
       "<Figure size 864x576 with 1 Axes>"
      ]
     },
     "metadata": {
      "tags": []
     },
     "output_type": "display_data"
    }
   ],
   "source": [
    "import networkx as nx                                  #networkx is used for creation of graphs\n",
    "\n",
    "import matplotlib.pyplot as plt\n",
    "\n",
    "def printGraph(triples):   \n",
    "    G = nx.Graph()       #creates graph with 0 nodes and 0 edges\n",
    "    for triple in triples:\n",
    "        G.add_node(triple[0])\n",
    "        G.add_node(triple[1])\n",
    "        G.add_node(triple[2])\n",
    "        G.add_edge(triple[0], triple[1])\n",
    "        G.add_edge(triple[1], triple[2])\n",
    "    pos = nx.spring_layout(G)                 #returns dict with positions\n",
    "    plt.figure(figsize=(12, 8))\n",
    "    nx.draw(G, pos, edge_color='black', width=1, linewidths=1,                #drawing the graph\n",
    "            node_size=700, node_color='skyblue', alpha=0.9,\n",
    "            labels={node: node for node in G.nodes()})\n",
    "    plt.axis('off')\n",
    "    plt.show()\n",
    "    \n",
    "printGraph(triples)"
   ]
  },
  {
   "cell_type": "code",
   "execution_count": 77,
   "metadata": {
    "colab": {
     "base_uri": "https://localhost:8080/"
    },
    "id": "pfbH7RWCH9zW",
    "outputId": "e181c1cc-070c-454a-c72c-22ee91d6a40f"
   },
   "outputs": [
    {
     "name": "stdout",
     "output_type": "stream",
     "text": [
      "Ask me anything (from the input) (Enter 0 to Exit): Who is the captain of CSK?\n",
      "Answer: The Chennai Super Kings (CSK) are a franchise cricket team based in Chennai, Tamil Nadu, which plays in the Indian Premier League (IPL). The team is captained by Mahendra Singh Dhoni and coached by Stephen Fleming. \n",
      "\n",
      "Ask me anything (from the input) (Enter 0 to Exit): What is winning percentage of CSK?\n",
      "Answer: The Chennai Super Kings (CSK) are a franchise cricket team based in Chennai, Tamil Nadu, which plays in the Indian Premier League (IPL). The team served a two-year suspension from the IPL starting July 2015 for the alleged involvement of their owners in the 2013 IPL betting case, and won the title in its comeback season. The Super Kings have lifted the IPL title thrice (in 2010, 2011 and 2018), and have the highest win percentage of matches among all teams in the IPL (59.83 %). In addition, they have also won the Champions League Twenty20 in 2010 and 2014. \n",
      "\n",
      "Ask me anything (from the input) (Enter 0 to Exit): How many times CSK played finals?\n",
      "Answer: The Chennai Super Kings (CSK) are a franchise cricket team based in Chennai, Tamil Nadu, which plays in the Indian Premier League (IPL). Founded in 2008, the team plays its home matches at the M. A. Chidambaram Stadium in Chennai. They hold the records of most appearances in the playoffs (ten) and the Final (eight) of the IPL. \n",
      "\n",
      "Ask me anything (from the input) (Enter 0 to Exit): 0\n"
     ]
    }
   ],
   "source": [
    "def is_token_allowed(token):\n",
    "    if (not token or token.is_stop or token.is_punct):\n",
    "        return False\n",
    "    return True\n",
    "\n",
    "def preprocess_token(token):\n",
    "    return token.lemma_.strip().lower()              #lemma will converts text in 2nd and 3rd form to their 1st form , like - asking->ask, slept->sleep\n",
    "                                #strip will clear all whitespaces from start and end\n",
    "\n",
    "\n",
    "while True:\n",
    "    ques = input('Ask me anything (from the input) (Enter 0 to Exit): ')        \n",
    "    if (ques == '0'):                #when 0 is entered, break the loop\n",
    "        break\n",
    "    \n",
    "    qdoc = nlp(ques)\n",
    "\n",
    "    ques_token = [preprocess_token(token) for token in qdoc if is_token_allowed(token)]          #check for token eligibility and then preprocess it\n",
    "    \n",
    "    print('Answer: ', end = \"\")\n",
    "    for sentence in sentences:\n",
    "        # Preprocessing the tokens in each sentence\n",
    "        final_token = [preprocess_token(token) for token in sentence if is_token_allowed(token)]         #check for final tokens\n",
    "        for qtoken in ques_token:\n",
    "            if qtoken in final_token:\n",
    "                print(sentence, end = \" \")                     #returns the answer\n",
    "                break\n",
    "    \n",
    "    print()\n",
    "    print()"
   ]
  },
  {
   "cell_type": "markdown",
   "metadata": {
    "id": "HhL8x1_AVDya"
   },
   "source": [
    "   ...."
   ]
  },
  {
   "cell_type": "markdown",
   "metadata": {
    "id": "RtWo2HcSU8FU"
   },
   "source": [
    "**Result -**"
   ]
  },
  {
   "cell_type": "markdown",
   "metadata": {
    "id": "WQG-0iqYVBgE"
   },
   "source": [
    "The knowledge graph was constructed for the given input text and the user questions were answered successfully."
   ]
  },
  {
   "cell_type": "code",
   "execution_count": null,
   "metadata": {
    "id": "dj-pp4ctIaLA"
   },
   "outputs": [],
   "source": []
  }
 ],
 "metadata": {
  "colab": {
   "name": "RA1811027010078 Implementation of Knowledge Representation.ipynb",
   "provenance": []
  },
  "kernelspec": {
   "display_name": "Python 3",
   "language": "python",
   "name": "python3"
  },
  "language_info": {
   "codemirror_mode": {
    "name": "ipython",
    "version": 3
   },
   "file_extension": ".py",
   "mimetype": "text/x-python",
   "name": "python",
   "nbconvert_exporter": "python",
   "pygments_lexer": "ipython3",
   "version": "3.7.4"
  }
 },
 "nbformat": 4,
 "nbformat_minor": 1
}
