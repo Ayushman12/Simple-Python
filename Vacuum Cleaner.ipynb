{
 "cells": [
  {
   "cell_type": "code",
   "execution_count": 5,
   "metadata": {},
   "outputs": [
    {
     "name": "stdout",
     "output_type": "stream",
     "text": [
      "Enter initial location of the vaccum cleaner A\n",
      "Enter status of intial location. (Clean -> 0, Dirty -> 1) 0\n",
      "Enter status of other room. (Clean -> 0, Dirty -> 1) 1\n",
      "Vaccum is at Location A\n",
      "Location A is clean\n",
      "Moving to Location B\n",
      "Location B is cleaned\n",
      "Total cost = 0\n"
     ]
    }
   ],
   "source": [
    "def vacuum_cleaner():\n",
    "    initial_location = input(\"Enter initial location of the vaccum cleaner \")\n",
    "    location_state = input(\"Enter status of intial location. (Clean -> 0, Dirty -> 1) \")\n",
    "    otherRoom_state = input(\"Enter status of other room. (Clean -> 0, Dirty -> 1) \")\n",
    "    total_cost = 0\n",
    "    if initial_location=='A':\n",
    "        print(\"Vaccum is at Location A\")\n",
    "        if(location_state=='1'):\n",
    "            print(\"Location A is dirty\")\n",
    "            total_cost=total_cost+1\n",
    "            location_state = '0'\n",
    "            print(\"Location A is cleaned\")\n",
    "            print(\"Vaccum moved to Location B\")\n",
    "            total_cost = total_cost-1\n",
    "            \n",
    "            if(otherRoom_state=='1'):\n",
    "                total_cost = total_cost+1\n",
    "                otherRoom_state = '0'\n",
    "                print(\"Location B is cleaned\")\n",
    "            else:\n",
    "                print(\"Location B is already cleaned\")\n",
    "        else:\n",
    "            print(\"Location A is clean\")\n",
    "            print(\"Moving to Location B\")\n",
    "            total_cost=total_cost-1\n",
    "            if(otherRoom_state=='1'):\n",
    "                total_cost = total_cost+1\n",
    "                otherRoom_state = '0'\n",
    "                print(\"Location B is cleaned\")\n",
    "            else:\n",
    "                print(\"Location B is already cleaned\")\n",
    "    else:\n",
    "        print(\"Vaccum is at Location B\")\n",
    "        if(location_state=='1'):\n",
    "            print(\"Location B is dirty\")\n",
    "            total_cost = total_cost+1\n",
    "            otherRoom_state='0'\n",
    "            print(\"Location B is cleaned\")\n",
    "            print(\"Vacuum moved to Location A\")\n",
    "            total_cost = total_cost-1\n",
    "\n",
    "            if(otherRoom_state=='1'):\n",
    "                print(\"Location A is dirty\")\n",
    "                total_cost=total_cost+1\n",
    "                location_state = '0'\n",
    "                print(\"Location A is cleaned\")\n",
    "            else:\n",
    "                print(\"Location A is already cleaned\")\n",
    "        else:\n",
    "            print(\"Location B is cleaned\")\n",
    "            print(\"Moving to Location A\")\n",
    "            total_cost=total_cost-1\n",
    "            if(otherRoom_state=='1'):\n",
    "                total_cost = total_cost+1\n",
    "                otherRoom_state = '0'\n",
    "                print(\"Location A is cleaned\")\n",
    "            else:\n",
    "                print(\"Location A is already cleaned\")\n",
    "    \n",
    "    print(\"Total cost = \"+ str(total_cost))\n",
    "    \n",
    "vacuum_cleaner()"
   ]
  },
  {
   "cell_type": "code",
   "execution_count": null,
   "metadata": {},
   "outputs": [],
   "source": []
  }
 ],
 "metadata": {
  "kernelspec": {
   "display_name": "Python 3",
   "language": "python",
   "name": "python3"
  },
  "language_info": {
   "codemirror_mode": {
    "name": "ipython",
    "version": 3
   },
   "file_extension": ".py",
   "mimetype": "text/x-python",
   "name": "python",
   "nbconvert_exporter": "python",
   "pygments_lexer": "ipython3",
   "version": "3.7.4"
  }
 },
 "nbformat": 4,
 "nbformat_minor": 2
}
