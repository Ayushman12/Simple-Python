{
 "cells": [
  {
   "cell_type": "markdown",
   "metadata": {},
   "source": [
    "# Water Jug Problem\n",
    "## Name - Prateek Sharma\n",
    "## RA1811027010075"
   ]
  },
  {
   "cell_type": "code",
   "execution_count": 1,
   "metadata": {},
   "outputs": [
    {
     "name": "stdout",
     "output_type": "stream",
     "text": [
      "Enter capacity 1 : 5\n",
      "Enter capacity 2 : 3\n",
      "Enter goal : 4\n",
      "0   0\n",
      "5   0\n",
      "2   3\n",
      "2   0\n",
      "0   2\n",
      "5   2\n",
      "4   3\n"
     ]
    }
   ],
   "source": [
    "#taking jug capacities and goal as input\n",
    "x = int(input(\"Enter capacity 1 : \"))\n",
    "y = int(input(\"Enter capacity 2 : \"))\n",
    "g = int(input(\"Enter goal : \"))\n",
    "\n",
    "#considering the jug1 to be the larger one\n",
    "if y>x:\n",
    "    x,y = y,x\n",
    "    \n",
    "\n",
    "def status(a1,a2):\n",
    "    print(a1,a2,sep=\"   \")\n",
    "    if a1 is g or a2 is g:\n",
    "        return\n",
    "    elif a1 is 0:\n",
    "        status(x,a2)\n",
    "    elif a2 is y:\n",
    "        status(a1,0);\n",
    "    elif a1>0 and a2!=y:\n",
    "        a = y - a2\n",
    "        if a>a1:\n",
    "            status(0,a1+a2)\n",
    "        else:\n",
    "            status(a1-a,y)\n",
    "status(0,0)"
   ]
  }
 ],
 "metadata": {
  "kernelspec": {
   "display_name": "Python 3",
   "language": "python",
   "name": "python3"
  },
  "language_info": {
   "codemirror_mode": {
    "name": "ipython",
    "version": 3
   },
   "file_extension": ".py",
   "mimetype": "text/x-python",
   "name": "python",
   "nbconvert_exporter": "python",
   "pygments_lexer": "ipython3",
   "version": "3.7.4"
  }
 },
 "nbformat": 4,
 "nbformat_minor": 2
}
