{
 "cells": [
  {
   "cell_type": "markdown",
   "metadata": {},
   "source": [
    "### Name - Ayushman Chaudhary"
   ]
  },
  {
   "cell_type": "markdown",
   "metadata": {},
   "source": [
    "### Reg. No. - RA1811027010080"
   ]
  },
  {
   "cell_type": "markdown",
   "metadata": {},
   "source": [
    "# Experiment No. 5 \n",
    "# Implementation of Best First Search and A* Search for an Application"
   ]
  },
  {
   "cell_type": "markdown",
   "metadata": {},
   "source": [
    "### 1.Best First Search Algorithm"
   ]
  },
  {
   "cell_type": "markdown",
   "metadata": {},
   "source": [
    "#### Code"
   ]
  },
  {
   "cell_type": "code",
   "execution_count": 1,
   "metadata": {
    "scrolled": true
   },
   "outputs": [
    {
     "name": "stdout",
     "output_type": "stream",
     "text": [
      "Enter the number of nodes: 12\n",
      "Enter the number of edges: 11\n",
      "Enter the edges along with their weights:\n",
      "0 1 2\n",
      "0 2 4\n",
      "1 3 2\n",
      "1 4 5\n",
      "2 5 7\n",
      "2 6 4\n",
      "3 7 8\n",
      "4 8 3\n",
      "4 9 5\n",
      "6 10 2\n",
      "7 11 1\n",
      "Enter the Source Node: 0\n",
      "Enter the Target/Destination Node: 10\n",
      "\n",
      "Path: 0 1 3 2 6 10 \n"
     ]
    }
   ],
   "source": [
    "from queue import PriorityQueue\n",
    "import matplotlib.pyplot as plt\n",
    "import networkx as nx\n",
    "\n",
    "# Function For Implementing Best First Search\n",
    "# Gives output path having lowest cost\n",
    "\n",
    "def best_first_search(source, target, n):\n",
    "    visited = [0] * n\n",
    "    visited[source] = True\n",
    "    pq = PriorityQueue()\n",
    "    pq.put((0, source))\n",
    "    while pq.empty() == False:\n",
    "        u = pq.get()[1]\n",
    "        # Displaying the path having lowest cost\n",
    "        print(u, end=\" \")\n",
    "        if u == target:\n",
    "            break\n",
    "\n",
    "        for v, c in graph[u]:\n",
    "            if visited[v] == False:\n",
    "                visited[v] = True\n",
    "                pq.put((c, v))\n",
    "    print()\n",
    "\n",
    "# Function for adding edges to graph\n",
    "\n",
    "def addedge(x, y, cost):\n",
    "    graph[x].append((y, cost))\n",
    "    graph[y].append((x, cost))\n",
    "\n",
    "G = nx.Graph()\n",
    "v = int(input(\"Enter the number of nodes: \"))\n",
    "graph = [[] for i in range(v)] # Undirected Graph\n",
    "e = int(input(\"Enter the number of edges: \"))\n",
    "print(\"Enter the edges along with their weights:\")\n",
    "for i in range(e):\n",
    "    x, y, z = list(map(int, input().split()))\n",
    "    addedge(x, y, z)\n",
    "    G.add_edge(x, y, weight = z)\n",
    "\n",
    "source = int(input(\"Enter the Source Node: \"))\n",
    "target = int(input(\"Enter the Target/Destination Node: \"))\n",
    "print(\"\\nPath: \", end = \"\")\n",
    "best_first_search(source, target, v)"
   ]
  },
  {
   "cell_type": "markdown",
   "metadata": {},
   "source": [
    "### Time Complexity and Space Complexity"
   ]
  },
  {
   "cell_type": "markdown",
   "metadata": {},
   "source": [
    "Best First Search is simply Breadth First Search (BFS) but with the nodes re-ordered by their heuristic value. In the worst case, the time and space complexity for Best First Search are the same as that of BFS: O(b^(d+1)) for Time and O(b^d) for Space."
   ]
  },
  {
   "cell_type": "markdown",
   "metadata": {},
   "source": [
    "## 2. A* Search Algorithm"
   ]
  },
  {
   "cell_type": "markdown",
   "metadata": {},
   "source": [
    "#### Code"
   ]
  },
  {
   "cell_type": "code",
   "execution_count": 3,
   "metadata": {},
   "outputs": [
    {
     "name": "stdout",
     "output_type": "stream",
     "text": [
      "Path: ['Bern: 0', 'Zurich: 120']\n"
     ]
    }
   ],
   "source": [
    "class Graph:\n",
    "    # Initialize the class\n",
    "    def __init__(self, graph_dict=None, directed=True):\n",
    "        self.graph_dict = graph_dict or {}\n",
    "        self.directed = directed\n",
    "        if not directed:\n",
    "            self.make_undirected()\n",
    "    # Create an undirected graph by adding symmetric edges\n",
    "    def make_undirected(self):\n",
    "        for a in list(self.graph_dict.keys()):\n",
    "            for (b, dist) in self.graph_dict[a].items():\n",
    "                self.graph_dict.setdefault(b, {})[a] = dist\n",
    "    # Add a link from A and B of given distance, and also add the inverse link if the graph is undirected\n",
    "    def connect(self, A, B, distance=1):\n",
    "        self.graph_dict.setdefault(A, {})[B] = distance\n",
    "        if not self.directed:\n",
    "            self.graph_dict.setdefault(B, {})[A] = distance\n",
    "    # Get neighbors or a neighbor\n",
    "    def get(self, a, b=None):\n",
    "        links = self.graph_dict.setdefault(a, {})\n",
    "        if b is None:\n",
    "            return links\n",
    "        else:\n",
    "            return links.get(b)\n",
    "    # Return a list of nodes in the graph\n",
    "    def nodes(self):\n",
    "        s1 = set([k for k in self.graph_dict.keys()])\n",
    "        s2 = set([k2 for v in self.graph_dict.values() for k2, v2 in v.items()])\n",
    "        nodes = s1.union(s2)\n",
    "        return list(nodes)\n",
    "# This class represent a node\n",
    "class Node:\n",
    "    # Initialize the class\n",
    "    def __init__(self, name:str, parent:str):\n",
    "        self.name = name\n",
    "        self.parent = parent\n",
    "        self.g = 0 # Distance to start node\n",
    "        self.h = 0 # Distance to goal node\n",
    "        self.f = 0 # Total cost\n",
    "    # Compare nodes\n",
    "    def __eq__(self, other):\n",
    "        return self.name == other.name\n",
    "    # Sort nodes\n",
    "    def __lt__(self, other):\n",
    "         return self.f < other.f\n",
    "    # Print node\n",
    "    def __repr__(self):\n",
    "        return ('({0},{1})'.format(self.name, self.f))\n",
    "# A* search\n",
    "def astar_search(graph, heuristics, start, end):\n",
    "    \n",
    "    # Create lists for open nodes and closed nodes\n",
    "    open = []\n",
    "    closed = []\n",
    "    # Create a start node and an goal node\n",
    "    start_node = Node(start, None)\n",
    "    goal_node = Node(end, None)\n",
    "    # Add the start node\n",
    "    open.append(start_node)\n",
    "    \n",
    "    # Loop until the open list is empty\n",
    "    while len(open) > 0:\n",
    "        # Sort the open list to get the node with the lowest cost first\n",
    "        open.sort()\n",
    "        # Get the node with the lowest cost\n",
    "        current_node = open.pop(0)\n",
    "        # Add the current node to the closed list\n",
    "        closed.append(current_node)\n",
    "        \n",
    "        # Check if we have reached the goal, return the path\n",
    "        if current_node == goal_node:\n",
    "            path = []\n",
    "            while current_node != start_node:\n",
    "                path.append(current_node.name + ': ' + str(current_node.g))\n",
    "                current_node = current_node.parent\n",
    "            path.append(start_node.name + ': ' + str(start_node.g))\n",
    "            # Return reversed path\n",
    "            return path[::-1]\n",
    "        # Get neighbours\n",
    "        neighbors = graph.get(current_node.name)\n",
    "        # Loop neighbors\n",
    "        for key, value in neighbors.items():\n",
    "            # Create a neighbor node\n",
    "            neighbor = Node(key, current_node)\n",
    "            # Check if the neighbor is in the closed list\n",
    "            if(neighbor in closed):\n",
    "                continue\n",
    "            # Calculate full path cost\n",
    "            neighbor.g = current_node.g + graph.get(current_node.name, neighbor.name)\n",
    "            neighbor.h = heuristics.get(neighbor.name)\n",
    "            neighbor.f = neighbor.g + neighbor.h\n",
    "            # Check if neighbor is in open list and if it has a lower f value\n",
    "            if(add_to_open(open, neighbor) == True):\n",
    "                # Everything is green, add neighbor to open list\n",
    "                open.append(neighbor)\n",
    "    # Return None, no path is found\n",
    "    return None\n",
    "# Check if a neighbor should be added to open list\n",
    "def add_to_open(open, neighbor):\n",
    "    for node in open:\n",
    "        if (neighbor == node and neighbor.f > node.f):\n",
    "            return False\n",
    "    return True\n",
    "\n",
    "# Create a graph\n",
    "graph = Graph() # User-based input for edges will be updated in the upcoming days\n",
    "# Create graph connections (Actual distance)\n",
    "graph.connect('Frankfurt', 'Wurzburg', 111)\n",
    "graph.connect('Frankfurt', 'Mannheim', 85)\n",
    "graph.connect('Wurzburg', 'Nurnberg', 104)\n",
    "graph.connect('Wurzburg', 'Stuttgart', 140)\n",
    "graph.connect('Wurzburg', 'Ulm', 183)\n",
    "graph.connect('Mannheim', 'Nurnberg', 230)\n",
    "graph.connect('Mannheim', 'Karlsruhe', 67)\n",
    "graph.connect('Karlsruhe', 'Basel', 191)\n",
    "graph.connect('Karlsruhe', 'Stuttgart', 64)\n",
    "graph.connect('Nurnberg', 'Ulm', 171)\n",
    "graph.connect('Nurnberg', 'Munchen', 170)\n",
    "graph.connect('Nurnberg', 'Passau', 220)\n",
    "graph.connect('Stuttgart', 'Ulm', 107)\n",
    "graph.connect('Basel', 'Bern', 91)\n",
    "graph.connect('Basel', 'Zurich', 85)\n",
    "graph.connect('Bern', 'Zurich', 120)\n",
    "graph.connect('Zurich', 'Memmingen', 184)\n",
    "graph.connect('Memmingen', 'Ulm', 55)\n",
    "graph.connect('Memmingen', 'Munchen', 115)\n",
    "graph.connect('Munchen', 'Ulm', 123)\n",
    "graph.connect('Munchen', 'Passau', 189)\n",
    "graph.connect('Munchen', 'Rosenheim', 59)\n",
    "graph.connect('Rosenheim', 'Salzburg', 81)\n",
    "graph.connect('Passau', 'Linz', 102)\n",
    "graph.connect('Salzburg', 'Linz', 126)\n",
    "# Make graph undirected, create symmetric connections\n",
    "graph.make_undirected()\n",
    "# Create heuristics (straight-line distance, air-travel distance)\n",
    "heuristics = {}\n",
    "heuristics['Basel'] = 204\n",
    "heuristics['Bern'] = 247\n",
    "heuristics['Frankfurt'] = 215\n",
    "heuristics['Karlsruhe'] = 137\n",
    "heuristics['Linz'] = 318\n",
    "heuristics['Mannheim'] = 164\n",
    "heuristics['Munchen'] = 120\n",
    "heuristics['Memmingen'] = 47\n",
    "heuristics['Nurnberg'] = 132\n",
    "heuristics['Passau'] = 257\n",
    "heuristics['Rosenheim'] = 168\n",
    "heuristics['Stuttgart'] = 75\n",
    "heuristics['Salzburg'] = 236\n",
    "heuristics['Wurzburg'] = 153\n",
    "heuristics['Zurich'] = 157\n",
    "heuristics['Ulm'] = 0\n",
    "# Run the search algorithm\n",
    "path = astar_search(graph, heuristics, 'Bern', 'Zurich')\n",
    "print(\"Path:\", path)"
   ]
  },
  {
   "cell_type": "markdown",
   "metadata": {},
   "source": [
    "### Time Complexity"
   ]
  },
  {
   "cell_type": "markdown",
   "metadata": {},
   "source": [
    "The time complexity of A* Search Algorithm depends on the heuristic. In the worst case of an unbounded search space, the number of nodes expanded is exponential in the depth of the solution (the shortest path) d: O(b^d), where b is the branching factor (the average number of successors per state). This assumes that a goal state exists at all, and is reachable from the start state; if it is not, and the state space is infinite, the algorithm will not terminate.  "
   ]
  },
  {
   "cell_type": "markdown",
   "metadata": {},
   "source": [
    "### Space Complexity"
   ]
  },
  {
   "cell_type": "markdown",
   "metadata": {},
   "source": [
    "The space complexity of A* Search Algorithm is roughly the same as that of all other graph search algorithms i.e. O(b^d), as it keeps all generated nodes in memory."
   ]
  }
 ],
 "metadata": {
  "kernelspec": {
   "display_name": "Python 3",
   "language": "python",
   "name": "python3"
  },
  "language_info": {
   "codemirror_mode": {
    "name": "ipython",
    "version": 3
   },
   "file_extension": ".py",
   "mimetype": "text/x-python",
   "name": "python",
   "nbconvert_exporter": "python",
   "pygments_lexer": "ipython3",
   "version": "3.7.4"
  }
 },
 "nbformat": 4,
 "nbformat_minor": 5
}
