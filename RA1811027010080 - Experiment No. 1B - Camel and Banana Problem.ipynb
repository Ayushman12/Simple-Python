{
 "cells": [
  {
   "cell_type": "markdown",
   "metadata": {},
   "source": [
    "# Name - Ayushman Chaudhary"
   ]
  },
  {
   "cell_type": "markdown",
   "metadata": {},
   "source": [
    "# R. No. - RA1811027010080"
   ]
  },
  {
   "cell_type": "markdown",
   "metadata": {},
   "source": [
    "# Experiment No. 1B - Camel and Bananas Problem"
   ]
  },
  {
   "cell_type": "markdown",
   "metadata": {},
   "source": [
    "## Aim"
   ]
  },
  {
   "cell_type": "markdown",
   "metadata": {},
   "source": [
    "To implement the strategy for solving the Camel and Bananas Problem."
   ]
  },
  {
   "cell_type": "markdown",
   "metadata": {},
   "source": [
    "## State Space Tree Diagram"
   ]
  },
  {
   "cell_type": "markdown",
   "metadata": {},
   "source": [
    "![title](a.jpeg)"
   ]
  },
  {
   "cell_type": "markdown",
   "metadata": {},
   "source": [
    "## Code"
   ]
  },
  {
   "cell_type": "code",
   "execution_count": 1,
   "metadata": {},
   "outputs": [
    {
     "name": "stdout",
     "output_type": "stream",
     "text": [
      "Enter the total no. of bananas available: 3000\n",
      "Enter the destination distance (in km): 1000\n",
      "Enter the max. load capacity of the camel: 1000\n",
      "\n",
      "Maximum number of bananas delivered: 533\n"
     ]
    }
   ],
   "source": [
    "import math\n",
    "\n",
    "total = int(input('Enter the total no. of bananas available: ')) # number of bananas\n",
    "distance = int(input('Enter the destination distance (in km): ')) # total distance\n",
    "load = int(input('Enter the max. load capacity of the camel: ')) # max capacity of the camel to carry the bananas\n",
    "print()\n",
    "\n",
    "x = [0] * distance # list for no. of bananas left for each km distance\n",
    "x[0] = total # start with the max capacity\n",
    "\n",
    "# Iteration for no. of bananas left for each km distance travelled by the camel\n",
    "for i in range(distance-1):\n",
    "    times = math.ceil(x[i]/load)\n",
    "    x[i+1] = x[i] - (times*2 - 1)\n",
    "\n",
    "print(\"Maximum number of bananas delivered:\", x[distance-1])"
   ]
  },
  {
   "cell_type": "markdown",
   "metadata": {},
   "source": [
    "## Results"
   ]
  },
  {
   "cell_type": "markdown",
   "metadata": {},
   "source": [
    "The Camel and Bananas Problem was solved using the given implementation."
   ]
  }
 ],
 "metadata": {
  "kernelspec": {
   "display_name": "Python 3",
   "language": "python",
   "name": "python3"
  },
  "language_info": {
   "codemirror_mode": {
    "name": "ipython",
    "version": 3
   },
   "file_extension": ".py",
   "mimetype": "text/x-python",
   "name": "python",
   "nbconvert_exporter": "python",
   "pygments_lexer": "ipython3",
   "version": "3.7.4"
  }
 },
 "nbformat": 4,
 "nbformat_minor": 5
}
